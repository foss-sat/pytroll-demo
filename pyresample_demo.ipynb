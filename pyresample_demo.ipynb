{
 "cells": [
  {
   "cell_type": "code",
   "execution_count": null,
   "metadata": {
    "collapsed": true
   },
   "outputs": [],
   "source": [
    "# Pyresample\n",
    "\n",
    "[Pyresample](http://github.com/pytroll/pyresample)\n",
    "\n",
    "[Docs](http://pyresample.readthedocs.org/en/latest/)"
   ]
  },
  {
   "cell_type": "code",
   "execution_count": 37,
   "metadata": {
    "collapsed": false
   },
   "outputs": [
    {
     "name": "stdout",
     "output_type": "stream",
     "text": [
      "Populating the interactive namespace from numpy and matplotlib\n"
     ]
    }
   ],
   "source": [
    "%pylab inline"
   ]
  },
  {
   "cell_type": "code",
   "execution_count": 46,
   "metadata": {
    "collapsed": false
   },
   "outputs": [],
   "source": [
    "from pyresample import geometry, kd_tree"
   ]
  },
  {
   "cell_type": "code",
   "execution_count": 39,
   "metadata": {
    "collapsed": false
   },
   "outputs": [],
   "source": [
    "# Define area\n",
    "area_def = geometry.AreaDefinition(\n",
    "    area_id = 'Istjenesten polar stereographic',\n",
    "    name = 'istjenesten_stere_north_3k',\n",
    "    proj_id = 'stere',\n",
    "    proj_dict = {'a' : '6371228.0',\n",
    "                 'units' : 'm',\n",
    "                 'lon_0' : '0',\n",
    "                 'proj'  : 'stere',\n",
    "                 'lat_0' : '90',\n",
    "                 'lat_ts': '90'},\n",
    "    x_size = 2432,\n",
    "    y_size = 3584,\n",
    "    area_extent =(-3850000.0, -5350000.0, 3750000.0, 5850000.0)\n",
    "    )\n"
   ]
  },
  {
   "cell_type": "code",
   "execution_count": 77,
   "metadata": {
    "collapsed": false
   },
   "outputs": [
    {
     "data": {
      "text/plain": [
       "<matplotlib.image.AxesImage at 0x7fc835d2f850>"
      ]
     },
     "execution_count": 77,
     "metadata": {},
     "output_type": "execute_result"
    },
    {
     "data": {
      "image/png": "[encoded data removed]",
      "text/plain": [
       "<matplotlib.figure.Figure at 0x7fc835e50110>"
      ]
     },
     "metadata": {},
     "output_type": "display_data"
    }
   ],
   "source": [
    "# Get swath definition\n",
    "xx, yy = mgrid[:200, :200]\n",
    "circle = (xx - 100) ** 2 + (yy - 100) ** 2\n",
    "donut_data = logical_and(circle < (6400 + 60), circle > (6400 - 60))\n",
    "\n",
    "lon_range = linspace(25., 35., 200)\n",
    "lat_range = linspace(55., 65., 200)\n",
    "lons, lats = meshgrid(lon_range, lat_range)\n",
    "\n",
    "\n",
    "swath_def = geometry.SwathDefinition(lons=lons,\n",
    "                                     lats=lats)\n",
    "\n",
    "imshow(donut_data)"
   ]
  },
  {
   "cell_type": "code",
   "execution_count": 74,
   "metadata": {
    "collapsed": false
   },
   "outputs": [],
   "source": [
    "# Resample swath to grid\n",
    "result = kd_tree.resample_nearest(swath_def,\n",
    "                                  donut_data,\n",
    "                                  area_def,\n",
    "                                  radius_of_influence=7000)"
   ]
  },
  {
   "cell_type": "code",
   "execution_count": 75,
   "metadata": {
    "collapsed": false
   },
   "outputs": [
    {
     "data": {
      "text/plain": [
       "<matplotlib.image.AxesImage at 0x7fc835ebdb50>"
      ]
     },
     "execution_count": 75,
     "metadata": {},
     "output_type": "execute_result"
    },
    {
     "data": {
      "image/png": "[encoded data removed]",
      "text/plain": [
       "<matplotlib.figure.Figure at 0x7fc83cce0d90>"
      ]
     },
     "metadata": {},
     "output_type": "display_data"
    }
   ],
   "source": [
    "imshow(result)"
   ]
  }
 ],
 "metadata": {
  "kernelspec": {
   "display_name": "Python 2",
   "language": "python",
   "name": "python2"
  },
  "language_info": {
   "codemirror_mode": {
    "name": "ipython",
    "version": 2
   },
   "file_extension": ".py",
   "mimetype": "text/x-python",
   "name": "python",
   "nbconvert_exporter": "python",
   "pygments_lexer": "ipython2",
   "version": "2.7.6"
  }
 },
 "nbformat": 4,
 "nbformat_minor": 0
}
